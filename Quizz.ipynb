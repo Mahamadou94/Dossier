{
 "cells": [
  {
   "cell_type": "code",
   "execution_count": null,
   "metadata": {},
   "outputs": [],
   "source": [
    "def ask_question(nb_attempts_left, question_sentence, right_answer):\n",
    "    if nb_attempts_left > 0:\n",
    "        answer = input(question_sentence)\n",
    "        answer = answer.lower()\n",
    "        while answer != right_answer:\n",
    "            nb_attempts_left -=1\n",
    "            print(\"Dommage ! Il te reste {} chances\".format(nb_attempts_left))\n",
    "            if nb_attempts_left == 0:\n",
    "                print(\"Oh non ! Tu as perdu le jeu...\")\n",
    "                break\n",
    "            answer = input(question_sentence)\n",
    "            answer = answer.lower()\n",
    "    return nb_attempts_left\n",
    "\n",
    "questions_answers_dic = {\n",
    "    \"Quel est la capitale de la France ?\": \"Paris\",\n",
    "    \"combien d'arrondissements à Paris ?\" : \"20\",\n",
    "    \"Qui est le président de la République française ?\" : \"macron\"\n",
    "}\n",
    "nb_attempts = 3\n",
    "\n",
    "for question, answer in questions_answers_dic.items() :\n",
    "    nb_attempts = ask_question(nb_attempts, question, answer)\n",
    "if nb_attempts > 0:\n",
    "    print(\"Bravo ! Tu as gagné le quizz\")\n",
    "\n",
    "\"\"\"\n",
    "questions_answers_list = [\n",
    "    (\" Quel est la capitale de la France?\", \"Paris\"),\n",
    "    (\"combien d'arrondissements à Paris?\", \"20\"),\n",
    "    (\"Qui est le président de la République française ?\", \"macron \")\n",
    "]\n",
    "\"\"\"\n",
    "\n",
    "\"\"\"\n",
    "for question, answer in questions_answers_list :\n",
    "    nb_attempts = ask_question(nb_attempts, question, answer)\n",
    "if nb_attempts > 0:\n",
    "    print(\"Bravo ! Tu as gagné le quizz\")\n",
    "\"\"\""
   ]
  },
  {
   "cell_type": "code",
   "execution_count": null,
   "metadata": {},
   "outputs": [],
   "source": []
  }
 ],
 "metadata": {
  "kernelspec": {
   "display_name": "Python 3",
   "language": "python",
   "name": "python3"
  },
  "language_info": {
   "codemirror_mode": {
    "name": "ipython",
    "version": 3
   },
   "file_extension": ".py",
   "mimetype": "text/x-python",
   "name": "python",
   "nbconvert_exporter": "python",
   "pygments_lexer": "ipython3",
   "version": "3.8.3"
  }
 },
 "nbformat": 4,
 "nbformat_minor": 4
}
